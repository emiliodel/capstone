{
    "cells": [
        {
            "metadata": {
                "collapsed": true
            },
            "cell_type": "markdown",
            "source": "# Toronto Part 1"
        },
        {
            "metadata": {},
            "cell_type": "markdown",
            "source": "Install Libraries"
        },
        {
            "metadata": {},
            "cell_type": "code",
            "source": "import numpy as np \n\nimport pandas as pd \n\nimport json \n\nimport requests \n\nfrom pandas.io.json import json_normalize\n\nimport matplotlib.cm as cm\nimport matplotlib.colors as colors \n\nfrom sklearn.cluster import KMeans \n\n!conda install -c conda-forge beautifulsoup4 --yes\nfrom bs4 import BeautifulSoup  \n\n!conda install -c conda-forge geopy --yes\nfrom geopy.geocoders import Nominatim  \n\nprint(\"Libraries imported.\")",
            "execution_count": 1,
            "outputs": [
                {
                    "output_type": "stream",
                    "text": "Solving environment: done\n\n## Package Plan ##\n\n  environment location: /opt/conda/envs/Python36\n\n  added / updated specs: \n    - beautifulsoup4\n\n\nThe following packages will be downloaded:\n\n    package                    |            build\n    ---------------------------|-----------------\n    beautifulsoup4-4.9.0       |   py36h9f0ad1d_0         160 KB  conda-forge\n    ca-certificates-2020.4.5.1 |       hecc5488_0         146 KB  conda-forge\n    certifi-2020.4.5.1         |   py36h9f0ad1d_0         151 KB  conda-forge\n    openssl-1.1.1g             |       h516909a_0         2.1 MB  conda-forge\n    python_abi-3.6             |          1_cp36m           4 KB  conda-forge\n    ------------------------------------------------------------\n                                           Total:         2.6 MB\n\nThe following NEW packages will be INSTALLED:\n\n    python_abi:      3.6-1_cp36m       conda-forge\n\nThe following packages will be UPDATED:\n\n    beautifulsoup4:  4.7.1-py36_1                  --> 4.9.0-py36h9f0ad1d_0      conda-forge\n    ca-certificates: 2020.1.1-0                    --> 2020.4.5.1-hecc5488_0     conda-forge\n    certifi:         2020.4.5.1-py36_0             --> 2020.4.5.1-py36h9f0ad1d_0 conda-forge\n    openssl:         1.1.1f-h7b6447c_0             --> 1.1.1g-h516909a_0         conda-forge\n\n\nDownloading and Extracting Packages\nbeautifulsoup4-4.9.0 | 160 KB    | ##################################### | 100% \nca-certificates-2020 | 146 KB    | ##################################### | 100% \ncertifi-2020.4.5.1   | 151 KB    | ##################################### | 100% \nopenssl-1.1.1g       | 2.1 MB    | ##################################### | 100% \npython_abi-3.6       | 4 KB      | ##################################### | 100% \nPreparing transaction: done\nVerifying transaction: done\nExecuting transaction: done\nSolving environment: done\n\n## Package Plan ##\n\n  environment location: /opt/conda/envs/Python36\n\n  added / updated specs: \n    - geopy\n\n\nThe following packages will be downloaded:\n\n    package                    |            build\n    ---------------------------|-----------------\n    geopy-1.21.0               |             py_0          58 KB  conda-forge\n    geographiclib-1.50         |             py_0          34 KB  conda-forge\n    ------------------------------------------------------------\n                                           Total:          92 KB\n\nThe following NEW packages will be INSTALLED:\n\n    geographiclib: 1.50-py_0   conda-forge\n    geopy:         1.21.0-py_0 conda-forge\n\n\nDownloading and Extracting Packages\ngeopy-1.21.0         | 58 KB     | ##################################### | 100% \ngeographiclib-1.50   | 34 KB     | ##################################### | 100% \nPreparing transaction: done\nVerifying transaction: done\nExecuting transaction: done\nLibraries imported.\n",
                    "name": "stdout"
                }
            ]
        },
        {
            "metadata": {},
            "cell_type": "markdown",
            "source": "Download Materials"
        },
        {
            "metadata": {},
            "cell_type": "code",
            "source": "data = requests.get('https://en.wikipedia.org/wiki/List_of_postal_codes_of_Canada:_M').text",
            "execution_count": 4,
            "outputs": []
        },
        {
            "metadata": {},
            "cell_type": "code",
            "source": "soup = BeautifulSoup(data, 'html.parser')",
            "execution_count": 6,
            "outputs": []
        },
        {
            "metadata": {},
            "cell_type": "markdown",
            "source": "List in Array"
        },
        {
            "metadata": {},
            "cell_type": "code",
            "source": "postalCodeList = []\nboroughList = []\nneighborhoodList = []",
            "execution_count": 7,
            "outputs": []
        },
        {
            "metadata": {},
            "cell_type": "markdown",
            "source": "Table and Postal Code"
        },
        {
            "metadata": {},
            "cell_type": "code",
            "source": "soup.find('table').find_all('tr')\n\n# find all the rows of the table\nsoup.find('table').find_all('tr')\n\n# for each row of the table, find all the table data\nfor row in soup.find('table').find_all('tr'):\n    cells = row.find_all('td')",
            "execution_count": 8,
            "outputs": []
        },
        {
            "metadata": {},
            "cell_type": "code",
            "source": "for row in soup.find('table').find_all('tr'):\n    cells = row.find_all('td')\n    if(len(cells) > 0):\n        postalCodeList.append(cells[0].text)\n        boroughList.append(cells[1].text)\n        neighborhoodList.append(cells[2].text.rstrip('\\n'))",
            "execution_count": 9,
            "outputs": []
        },
        {
            "metadata": {},
            "cell_type": "markdown",
            "source": "Load Pandas!"
        },
        {
            "metadata": {},
            "cell_type": "code",
            "source": "toronto_df = pd.DataFrame({\"PostalCode\": postalCodeList,\n                           \"Borough\": boroughList,\n                           \"Neighborhood\": neighborhoodList})\n\ntoronto_df.head()",
            "execution_count": 14,
            "outputs": [
                {
                    "output_type": "execute_result",
                    "execution_count": 14,
                    "data": {
                        "text/plain": "  PostalCode             Borough                Neighborhood\n0      M1A\\n      Not assigned\\n                            \n1      M2A\\n      Not assigned\\n                            \n2      M3A\\n        North York\\n                   Parkwoods\n3      M4A\\n        North York\\n            Victoria Village\n4      M5A\\n  Downtown Toronto\\n  Regent Park / Harbourfront",
                        "text/html": "<div>\n<style scoped>\n    .dataframe tbody tr th:only-of-type {\n        vertical-align: middle;\n    }\n\n    .dataframe tbody tr th {\n        vertical-align: top;\n    }\n\n    .dataframe thead th {\n        text-align: right;\n    }\n</style>\n<table border=\"1\" class=\"dataframe\">\n  <thead>\n    <tr style=\"text-align: right;\">\n      <th></th>\n      <th>PostalCode</th>\n      <th>Borough</th>\n      <th>Neighborhood</th>\n    </tr>\n  </thead>\n  <tbody>\n    <tr>\n      <th>0</th>\n      <td>M1A\\n</td>\n      <td>Not assigned\\n</td>\n      <td></td>\n    </tr>\n    <tr>\n      <th>1</th>\n      <td>M2A\\n</td>\n      <td>Not assigned\\n</td>\n      <td></td>\n    </tr>\n    <tr>\n      <th>2</th>\n      <td>M3A\\n</td>\n      <td>North York\\n</td>\n      <td>Parkwoods</td>\n    </tr>\n    <tr>\n      <th>3</th>\n      <td>M4A\\n</td>\n      <td>North York\\n</td>\n      <td>Victoria Village</td>\n    </tr>\n    <tr>\n      <th>4</th>\n      <td>M5A\\n</td>\n      <td>Downtown Toronto\\n</td>\n      <td>Regent Park / Harbourfront</td>\n    </tr>\n  </tbody>\n</table>\n</div>"
                    },
                    "metadata": {}
                }
            ]
        },
        {
            "metadata": {},
            "cell_type": "markdown",
            "source": "Remove the Unassigned"
        },
        {
            "metadata": {},
            "cell_type": "code",
            "source": "toronto_df_drop = toronto_df[toronto_df.Borough != \"Not assigned\\n\"].reset_index(drop=True)\ntoronto_df_drop.head()",
            "execution_count": 16,
            "outputs": [
                {
                    "output_type": "execute_result",
                    "execution_count": 16,
                    "data": {
                        "text/plain": "  PostalCode             Borough                                  Neighborhood\n0      M3A\\n        North York\\n                                     Parkwoods\n1      M4A\\n        North York\\n                              Victoria Village\n2      M5A\\n  Downtown Toronto\\n                    Regent Park / Harbourfront\n3      M6A\\n        North York\\n             Lawrence Manor / Lawrence Heights\n4      M7A\\n  Downtown Toronto\\n  Queen's Park / Ontario Provincial Government",
                        "text/html": "<div>\n<style scoped>\n    .dataframe tbody tr th:only-of-type {\n        vertical-align: middle;\n    }\n\n    .dataframe tbody tr th {\n        vertical-align: top;\n    }\n\n    .dataframe thead th {\n        text-align: right;\n    }\n</style>\n<table border=\"1\" class=\"dataframe\">\n  <thead>\n    <tr style=\"text-align: right;\">\n      <th></th>\n      <th>PostalCode</th>\n      <th>Borough</th>\n      <th>Neighborhood</th>\n    </tr>\n  </thead>\n  <tbody>\n    <tr>\n      <th>0</th>\n      <td>M3A\\n</td>\n      <td>North York\\n</td>\n      <td>Parkwoods</td>\n    </tr>\n    <tr>\n      <th>1</th>\n      <td>M4A\\n</td>\n      <td>North York\\n</td>\n      <td>Victoria Village</td>\n    </tr>\n    <tr>\n      <th>2</th>\n      <td>M5A\\n</td>\n      <td>Downtown Toronto\\n</td>\n      <td>Regent Park / Harbourfront</td>\n    </tr>\n    <tr>\n      <th>3</th>\n      <td>M6A\\n</td>\n      <td>North York\\n</td>\n      <td>Lawrence Manor / Lawrence Heights</td>\n    </tr>\n    <tr>\n      <th>4</th>\n      <td>M7A\\n</td>\n      <td>Downtown Toronto\\n</td>\n      <td>Queen's Park / Ontario Provincial Government</td>\n    </tr>\n  </tbody>\n</table>\n</div>"
                    },
                    "metadata": {}
                }
            ]
        },
        {
            "metadata": {},
            "cell_type": "markdown",
            "source": "Group!"
        },
        {
            "metadata": {},
            "cell_type": "code",
            "source": "toronto_df_grouped = toronto_df_drop.groupby([\"PostalCode\", \"Borough\"], as_index=False).agg(lambda x: \", \".join(x))\ntoronto_df_grouped.head()",
            "execution_count": 17,
            "outputs": [
                {
                    "output_type": "execute_result",
                    "execution_count": 17,
                    "data": {
                        "text/plain": "  PostalCode        Borough                              Neighborhood\n0      M1B\\n  Scarborough\\n                           Malvern / Rouge\n1      M1C\\n  Scarborough\\n  Rouge Hill / Port Union / Highland Creek\n2      M1E\\n  Scarborough\\n       Guildwood / Morningside / West Hill\n3      M1G\\n  Scarborough\\n                                    Woburn\n4      M1H\\n  Scarborough\\n                                 Cedarbrae",
                        "text/html": "<div>\n<style scoped>\n    .dataframe tbody tr th:only-of-type {\n        vertical-align: middle;\n    }\n\n    .dataframe tbody tr th {\n        vertical-align: top;\n    }\n\n    .dataframe thead th {\n        text-align: right;\n    }\n</style>\n<table border=\"1\" class=\"dataframe\">\n  <thead>\n    <tr style=\"text-align: right;\">\n      <th></th>\n      <th>PostalCode</th>\n      <th>Borough</th>\n      <th>Neighborhood</th>\n    </tr>\n  </thead>\n  <tbody>\n    <tr>\n      <th>0</th>\n      <td>M1B\\n</td>\n      <td>Scarborough\\n</td>\n      <td>Malvern / Rouge</td>\n    </tr>\n    <tr>\n      <th>1</th>\n      <td>M1C\\n</td>\n      <td>Scarborough\\n</td>\n      <td>Rouge Hill / Port Union / Highland Creek</td>\n    </tr>\n    <tr>\n      <th>2</th>\n      <td>M1E\\n</td>\n      <td>Scarborough\\n</td>\n      <td>Guildwood / Morningside / West Hill</td>\n    </tr>\n    <tr>\n      <th>3</th>\n      <td>M1G\\n</td>\n      <td>Scarborough\\n</td>\n      <td>Woburn</td>\n    </tr>\n    <tr>\n      <th>4</th>\n      <td>M1H\\n</td>\n      <td>Scarborough\\n</td>\n      <td>Cedarbrae</td>\n    </tr>\n  </tbody>\n</table>\n</div>"
                    },
                    "metadata": {}
                }
            ]
        },
        {
            "metadata": {},
            "cell_type": "markdown",
            "source": "Make Unassigned same value as Borough"
        },
        {
            "metadata": {
                "scrolled": true
            },
            "cell_type": "code",
            "source": "for index, row in toronto_df_grouped.iterrows():\n    if row[\"Neighborhood\"] == \"Not assigned/n\":\n        row[\"Neighborhood\"] = row[\"Borough\"]\n        \ntoronto_df_grouped.head()",
            "execution_count": 18,
            "outputs": [
                {
                    "output_type": "execute_result",
                    "execution_count": 18,
                    "data": {
                        "text/plain": "  PostalCode        Borough                              Neighborhood\n0      M1B\\n  Scarborough\\n                           Malvern / Rouge\n1      M1C\\n  Scarborough\\n  Rouge Hill / Port Union / Highland Creek\n2      M1E\\n  Scarborough\\n       Guildwood / Morningside / West Hill\n3      M1G\\n  Scarborough\\n                                    Woburn\n4      M1H\\n  Scarborough\\n                                 Cedarbrae",
                        "text/html": "<div>\n<style scoped>\n    .dataframe tbody tr th:only-of-type {\n        vertical-align: middle;\n    }\n\n    .dataframe tbody tr th {\n        vertical-align: top;\n    }\n\n    .dataframe thead th {\n        text-align: right;\n    }\n</style>\n<table border=\"1\" class=\"dataframe\">\n  <thead>\n    <tr style=\"text-align: right;\">\n      <th></th>\n      <th>PostalCode</th>\n      <th>Borough</th>\n      <th>Neighborhood</th>\n    </tr>\n  </thead>\n  <tbody>\n    <tr>\n      <th>0</th>\n      <td>M1B\\n</td>\n      <td>Scarborough\\n</td>\n      <td>Malvern / Rouge</td>\n    </tr>\n    <tr>\n      <th>1</th>\n      <td>M1C\\n</td>\n      <td>Scarborough\\n</td>\n      <td>Rouge Hill / Port Union / Highland Creek</td>\n    </tr>\n    <tr>\n      <th>2</th>\n      <td>M1E\\n</td>\n      <td>Scarborough\\n</td>\n      <td>Guildwood / Morningside / West Hill</td>\n    </tr>\n    <tr>\n      <th>3</th>\n      <td>M1G\\n</td>\n      <td>Scarborough\\n</td>\n      <td>Woburn</td>\n    </tr>\n    <tr>\n      <th>4</th>\n      <td>M1H\\n</td>\n      <td>Scarborough\\n</td>\n      <td>Cedarbrae</td>\n    </tr>\n  </tbody>\n</table>\n</div>"
                    },
                    "metadata": {}
                }
            ]
        },
        {
            "metadata": {},
            "cell_type": "markdown",
            "source": "It supposed to all come together..."
        },
        {
            "metadata": {},
            "cell_type": "code",
            "source": "column_names = [\"PostalCode\", \"Borough\", \"Neighborhood\"]\ntest_df = pd.DataFrame(columns=column_names)\n\ntest_list = [\"M1G/n\", \"M1H/n\", \"M1B/n\", \"M1J/n\", \"M1G/n\", \"M1M/n\", \"M1R/n\", \"M1V/n\", \"M1L/n\", \"M1V/n\", \"M1A/n\"]\n\nfor postcode in test_list:\n    test_df = test_df.append(toronto_df_grouped[toronto_df_grouped[\"PostalCode\"]==postcode], ignore_index=True)\n    \ntest_df",
            "execution_count": 27,
            "outputs": [
                {
                    "output_type": "execute_result",
                    "execution_count": 27,
                    "data": {
                        "text/plain": "Empty DataFrame\nColumns: [PostalCode, Borough, Neighborhood]\nIndex: []",
                        "text/html": "<div>\n<style scoped>\n    .dataframe tbody tr th:only-of-type {\n        vertical-align: middle;\n    }\n\n    .dataframe tbody tr th {\n        vertical-align: top;\n    }\n\n    .dataframe thead th {\n        text-align: right;\n    }\n</style>\n<table border=\"1\" class=\"dataframe\">\n  <thead>\n    <tr style=\"text-align: right;\">\n      <th></th>\n      <th>PostalCode</th>\n      <th>Borough</th>\n      <th>Neighborhood</th>\n    </tr>\n  </thead>\n  <tbody>\n  </tbody>\n</table>\n</div>"
                    },
                    "metadata": {}
                }
            ]
        },
        {
            "metadata": {},
            "cell_type": "code",
            "source": "",
            "execution_count": null,
            "outputs": []
        }
    ],
    "metadata": {
        "kernelspec": {
            "name": "python3",
            "display_name": "Python 3.6",
            "language": "python"
        },
        "language_info": {
            "name": "python",
            "version": "3.6.9",
            "mimetype": "text/x-python",
            "codemirror_mode": {
                "name": "ipython",
                "version": 3
            },
            "pygments_lexer": "ipython3",
            "nbconvert_exporter": "python",
            "file_extension": ".py"
        }
    },
    "nbformat": 4,
    "nbformat_minor": 1
}